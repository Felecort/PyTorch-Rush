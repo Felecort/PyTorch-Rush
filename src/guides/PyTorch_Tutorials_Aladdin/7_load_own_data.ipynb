{
  "cells": [
    {
      "cell_type": "code",
      "execution_count": 144,
      "metadata": {
        "id": "Q2gQc6O_uELi"
      },
      "outputs": [],
      "source": [
        "import torch\n",
        "import torch.nn as nn # NN networks (CNN, RNN, losses)\n",
        "import torch.optim as optim # Aptimizers (Adam, Adadelta, Adagrad)\n",
        "import torch.nn.functional as F # Activarions func (ReLU, Sigmoid) also included in nn\n",
        "from torch.utils.data import DataLoader, Dataset # Dataset manager\n",
        "import torchvision.datasets as datasets # Datasets\n",
        "import torchvision.transforms as transforms # Transformation to datasets\n",
        "import torchvision\n",
        "import pandas as pd\n",
        "import os\n",
        "from skimage import io "
      ]
    },
    {
      "cell_type": "code",
      "execution_count": 145,
      "metadata": {
        "id": "knlitASIyXEW"
      },
      "outputs": [],
      "source": [
        "# Set device\n",
        "device = torch.device(\"cuda\" if torch.cuda.is_available() else \"cpu\")\n",
        "\n",
        "# Hyperparametrs\n",
        "in_channels = 3\n",
        "num_classes = 10\n",
        "learning_rate = 0.001\n",
        "num_epoches = 1\n",
        "batch_size = 32"
      ]
    },
    {
      "cell_type": "code",
      "execution_count": 146,
      "metadata": {},
      "outputs": [],
      "source": [
        "class CatsAndDogsDataset(Dataset):\n",
        "    def __init__(self, csv_file, root_dir, transform=None):\n",
        "        super().__init__()\n",
        "        self.annotations = pd.read_csv(csv_file)\n",
        "        self.root_dir = root_dir\n",
        "        self.transform = transform\n",
        "\n",
        "    def __len__(self):\n",
        "        return len(self.annotations) # 25000\n",
        "    \n",
        "    def __getitem__(self, index):\n",
        "        img_path = os.path.join(self.root_dir, self.annotations.iloc[index, 0])\n",
        "        image = io.imread(img_path)\n",
        "        y_label = torch.tensor(int(self.annotations.iloc[index, 1]))\n",
        "        \n",
        "        if self.transform:\n",
        "            image = self.transform(image)\n",
        "        \n",
        "        return (image, y_label)"
      ]
    },
    {
      "cell_type": "code",
      "execution_count": 147,
      "metadata": {},
      "outputs": [
        {
          "name": "stdout",
          "output_type": "stream",
          "text": [
            ".\\dataset\\dogs_vs_cats\\train\\cat.1.jpg\n",
            "(280, 300, 3)\n",
            "(499, 489, 3)\n",
            "(149, 150, 3)\n"
          ]
        }
      ],
      "source": [
        "csv_file = r\".\\dataset\\dogs_vs_cats\\labels.csv\"\n",
        "root_dir = r\".\\dataset\\dogs_vs_cats\\train\"\n",
        "dataset = CatsAndDogsDataset(csv_file=csv_file, root_dir=root_dir, transform=transforms.ToTensor())\n",
        "\n",
        "train_set, test_set = torch.utils.data.random_split(dataset, [20000, 5000])\n",
        "train_loader = DataLoader(dataset=train_set, batch_size=batch_size, shuffle=True)\n",
        "test_loader = DataLoader(dataset=test_set, batch_size=batch_size, shuffle=True)"
      ]
    },
    {
      "cell_type": "code",
      "execution_count": null,
      "metadata": {},
      "outputs": [],
      "source": [
        "\"\"\"Create labels\"\"\"\n",
        "\n",
        "# import os\n",
        "# dirname = r\"D:\\Projects\\PythonProjects\\PyTorch-Rush\\src\\dataset\\dogs_vs_cats\\train\"\n",
        "# files = os.listdir(dirname)\n",
        "# files.sort()\n",
        "# with open(\"./dataset/dogs_vs_cats/labels.csv\", \"w\") as f:\n",
        "#     f.write(\"Animal,isDog\\n\")\n",
        "#     for img in files:\n",
        "#         if \"cat\" in img:\n",
        "#             f.write(f\"{img},0\\n\") \n",
        "#         else:\n",
        "#             f.write(f\"{img},1\\n\") "
      ]
    }
  ],
  "metadata": {
    "accelerator": "GPU",
    "colab": {
      "collapsed_sections": [],
      "name": "1_simple_fullynet",
      "provenance": []
    },
    "gpuClass": "standard",
    "kernelspec": {
      "display_name": "Python 3.9.13 ('ml_venv_p39')",
      "language": "python",
      "name": "python3"
    },
    "language_info": {
      "codemirror_mode": {
        "name": "ipython",
        "version": 3
      },
      "file_extension": ".py",
      "mimetype": "text/x-python",
      "name": "python",
      "nbconvert_exporter": "python",
      "pygments_lexer": "ipython3",
      "version": "3.9.13"
    },
    "vscode": {
      "interpreter": {
        "hash": "4768d2f058c14b479e138ff57b58bdd686493c6bb5dedc1b4ea8047c7aed7072"
      }
    }
  },
  "nbformat": 4,
  "nbformat_minor": 0
}
