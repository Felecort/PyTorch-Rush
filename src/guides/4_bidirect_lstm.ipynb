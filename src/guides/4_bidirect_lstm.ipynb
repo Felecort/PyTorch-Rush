{
  "cells": [
    {
      "cell_type": "code",
      "execution_count": 7,
      "metadata": {
        "id": "Q2gQc6O_uELi"
      },
      "outputs": [],
      "source": [
        "import torch\n",
        "import torch.nn as nn # NN networks (CNN, RNN, losses)\n",
        "import torch.optim as optim # Aptimizers (Adam, Adadelta, Adagrad)\n",
        "import torch.nn.functional as F # Activarions func (ReLU, Sigmoid) also included in nn\n",
        "from torch.utils.data import DataLoader # Dataset manager\n",
        "import torchvision.datasets as datasets # Datasets\n",
        "import torchvision.transforms as transforms # Transformation to datasets\n"
      ]
    },
    {
      "cell_type": "code",
      "execution_count": 8,
      "metadata": {
        "id": "knlitASIyXEW"
      },
      "outputs": [],
      "source": [
        "# Set device\n",
        "device = torch.device(\"cuda\" if torch.cuda.is_available() else \"cpu\")\n",
        "\n",
        "# Hyperparametrs\n",
        "input_size = 28\n",
        "sequence_length = 28\n",
        "num_layers = 2\n",
        "hidden_size = 256\n",
        "num_classes = 10\n",
        "learning_rate = 0.001\n",
        "num_epoches = 2\n",
        "batch_size = 64\n"
      ]
    },
    {
      "cell_type": "code",
      "execution_count": 9,
      "metadata": {
        "id": "Ef-O9I0MztiD"
      },
      "outputs": [],
      "source": [
        "# Load data\n",
        "train_dataset = datasets.MNIST(root=\"dataset/\", train=True, transform=transforms.ToTensor(), download=True)\n",
        "train_loader = DataLoader(dataset=train_dataset, batch_size=batch_size, shuffle=True)\n",
        "\n",
        "test_dataset = datasets.MNIST(root=\"dataset/\", train=False, transform=transforms.ToTensor(), download=True)\n",
        "test_loader = DataLoader(dataset=test_dataset, batch_size=batch_size, shuffle=True)\n"
      ]
    },
    {
      "cell_type": "code",
      "execution_count": 10,
      "metadata": {},
      "outputs": [],
      "source": [
        "from turtle import forward\n",
        "from unicodedata import bidirectional\n",
        "\n",
        "\n",
        "class BRNN(nn.Module):\n",
        "    def __init__(self, input_size, hidden_size, num_layers, num_classes) -> None:\n",
        "        super().__init__()\n",
        "        self.hidden_size = hidden_size\n",
        "        self.num_layers = num_layers\n",
        "        self.num_classes = num_classes\n",
        "        self.lstm = nn.LSTM(input_size, hidden_size, num_layers, batch_first=True,\n",
        "                            bidirectional=True)\n",
        "        self.fc = nn.Linear(hidden_size * 2, num_classes)\n",
        "        \n",
        "    def forward(self, x):\n",
        "        h0 = torch.zeros(self.num_layers * 2, x.size(0), self.hidden_size).to(device=device)\n",
        "        c0 = torch.zeros(self.num_layers * 2, x.size(0), self.hidden_size).to(device=device)\n",
        "        \n",
        "        # Forward prop\n",
        "        out, _ = self.lstm(x, (h0, c0))\n",
        "        out = self.fc(out[:, -1, :])\n",
        "        return out\n",
        "\n",
        "        "
      ]
    },
    {
      "cell_type": "code",
      "execution_count": 11,
      "metadata": {},
      "outputs": [],
      "source": [
        "# Initialize model\n",
        "model = BRNN(input_size, hidden_size, num_layers, num_classes).to(device=device)\n",
        "\n",
        "criterion = nn.CrossEntropyLoss()\n",
        "optimizer = optim.Adam(model.parameters(), lr=learning_rate)\n"
      ]
    },
    {
      "cell_type": "code",
      "execution_count": 12,
      "metadata": {},
      "outputs": [],
      "source": [
        "# Train model\n",
        "for epoch in range(num_epoches):\n",
        "    for batch_ind, (data, targets) in enumerate(train_loader):\n",
        "        # Data on cude\n",
        "        data = data.to(device=device).squeeze(1) # ([64, 1, 28, 28])\n",
        "        targets = targets.to(device=device)\n",
        "        \n",
        "        # Forawrd\n",
        "        scores = model(data) # Equal to model.forward(data)\n",
        "        loss = criterion(scores, targets)\n",
        "\n",
        "        # Backprop\n",
        "        optimizer.zero_grad()\n",
        "        loss.backward()\n",
        "\n",
        "        # Gradient descent or adam step\n",
        "        optimizer.step()\n"
      ]
    },
    {
      "cell_type": "code",
      "execution_count": 13,
      "metadata": {},
      "outputs": [],
      "source": [
        "def check_accuracy(loader, model):\n",
        "    num_correct = 0\n",
        "    num_samples = 0\n",
        "    model.eval()\n",
        "    with torch.no_grad():\n",
        "        for x, y in loader:\n",
        "            x = x.to(device=device).squeeze(1)\n",
        "            y = y.to(device=device)\n",
        "            \n",
        "            scores = model(x)\n",
        "            _, predictions = scores.max(1)\n",
        "            num_correct += (predictions == y).sum()\n",
        "            num_samples += predictions.size(0)\n",
        "\n",
        "    print(f\"{float(num_correct) / float(num_samples)}\")\n",
        "    model.train()"
      ]
    },
    {
      "cell_type": "code",
      "execution_count": 14,
      "metadata": {
        "id": "VmFuLUS0-EVH"
      },
      "outputs": [
        {
          "name": "stdout",
          "output_type": "stream",
          "text": [
            "0.9731\n",
            "0.9719\n"
          ]
        }
      ],
      "source": [
        "check_accuracy(train_loader, model)\n",
        "check_accuracy(test_loader, model)\n"
      ]
    }
  ],
  "metadata": {
    "accelerator": "GPU",
    "colab": {
      "collapsed_sections": [],
      "name": "1_simple_fullynet",
      "provenance": []
    },
    "gpuClass": "standard",
    "kernelspec": {
      "display_name": "Python 3.9.13 ('ml_venv_p39')",
      "language": "python",
      "name": "python3"
    },
    "language_info": {
      "codemirror_mode": {
        "name": "ipython",
        "version": 3
      },
      "file_extension": ".py",
      "mimetype": "text/x-python",
      "name": "python",
      "nbconvert_exporter": "python",
      "pygments_lexer": "ipython3",
      "version": "3.9.13"
    },
    "vscode": {
      "interpreter": {
        "hash": "4768d2f058c14b479e138ff57b58bdd686493c6bb5dedc1b4ea8047c7aed7072"
      }
    }
  },
  "nbformat": 4,
  "nbformat_minor": 0
}
