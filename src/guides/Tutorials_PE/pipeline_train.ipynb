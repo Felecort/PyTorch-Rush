{
 "cells": [
  {
   "cell_type": "markdown",
   "metadata": {},
   "source": [
    "Basic pipeline\n",
    "\n",
    "1. Design a model\n",
    "2. Construct loss and optimizer\n",
    "3. Train model\n",
    "    1. forward pass: compute predictions\n",
    "    2. backward pass: gradients\n",
    "    3. update weights"
   ]
  },
  {
   "cell_type": "code",
   "execution_count": 19,
   "metadata": {},
   "outputs": [],
   "source": [
    "import torch\n",
    "import torch.nn as nn"
   ]
  },
  {
   "cell_type": "code",
   "execution_count": 20,
   "metadata": {},
   "outputs": [
    {
     "name": "stdout",
     "output_type": "stream",
     "text": [
      "4 1\n"
     ]
    }
   ],
   "source": [
    "X = torch.Tensor([[1], [2], [3], [4]])#, dtype=torch.float32)\n",
    "y = torch.Tensor([[2], [4], [6], [8]])#, dtype=torch.float32)\n",
    "\n",
    "X_test = torch.tensor([5], dtype=torch.float32)\n",
    "\n",
    "n_samples, n_features = X.shape\n",
    "print(n_samples, n_features)"
   ]
  },
  {
   "cell_type": "code",
   "execution_count": 21,
   "metadata": {},
   "outputs": [],
   "source": [
    "input_size = n_features\n",
    "out_size = 1\n",
    "\n",
    "model = nn.Linear(input_size, out_size)"
   ]
  },
  {
   "cell_type": "code",
   "execution_count": 22,
   "metadata": {},
   "outputs": [],
   "source": [
    "epoches = 300\n",
    "learning_rate = 0.001"
   ]
  },
  {
   "cell_type": "code",
   "execution_count": 23,
   "metadata": {},
   "outputs": [],
   "source": [
    "loss = nn.MSELoss()\n",
    "optimizer = torch.optim.SGD(model.parameters(), lr=learning_rate)"
   ]
  },
  {
   "cell_type": "code",
   "execution_count": 24,
   "metadata": {},
   "outputs": [
    {
     "name": "stdout",
     "output_type": "stream",
     "text": [
      "Prediction before training -1.688\n",
      "epoch = 30, w = 0.300, b = 1.048 l = 14.327\n",
      "epoch = 60, w = 0.782, b = 1.197 l = 5.435\n",
      "epoch = 90, w = 1.075, b = 1.282 l = 2.194\n",
      "epoch = 120, w = 1.253, b = 1.329 l = 1.010\n",
      "epoch = 150, w = 1.362, b = 1.351 l = 0.576\n",
      "epoch = 180, w = 1.430, b = 1.360 l = 0.414\n",
      "epoch = 210, w = 1.472, b = 1.361 l = 0.351\n",
      "epoch = 240, w = 1.500, b = 1.356 l = 0.325\n",
      "epoch = 270, w = 1.518, b = 1.349 l = 0.312\n",
      "epoch = 300, w = 1.530, b = 1.340 l = 0.303\n",
      "Prediction after training 8.990\n"
     ]
    }
   ],
   "source": [
    "\n",
    "print(f\"Prediction before training {model(X_test).item():.3f}\")\n",
    "for epoch in range(1, epoches + 1):\n",
    "    # Prediction = forward pass\n",
    "    y_pred = model(X)\n",
    "    \n",
    "    # Loss\n",
    "    l = loss(y, y_pred)\n",
    "    \n",
    "    # Gradient (loss.backward)\n",
    "    l.backward()\n",
    "    \n",
    "    # Update weights (optimizer.step)\n",
    "    # with torch.no_grad():\n",
    "    #     w -= learning_rate * w.grad\n",
    "    # Equal to\n",
    "    optimizer.step()    \n",
    "    optimizer.zero_grad()\n",
    "    \n",
    "    if epoch % 30 == 0:\n",
    "        w, b = model.parameters()\n",
    "        print(f\"{epoch = }, w = {w[0][0].item():.3f}, b = {b[0].item():.3f} l = {l.item():.3f}\")\n",
    "print(f\"Prediction after training {model(X_test).item():.3f}\")"
   ]
  },
  {
   "cell_type": "code",
   "execution_count": null,
   "metadata": {},
   "outputs": [],
   "source": [
    "class LinRegModule(nn.Module):\n",
    "    def __init__(self, input_, out) -> None:\n",
    "        super().__init__()\n",
    "        self.lin = nn.Linear(input_, out)\n",
    "        \n",
    "    def forward(self, X):\n",
    "        return self.lin(X)"
   ]
  },
  {
   "cell_type": "code",
   "execution_count": null,
   "metadata": {},
   "outputs": [],
   "source": [
    "model = LinRegModule(input_size, out_size)"
   ]
  }
 ],
 "metadata": {
  "kernelspec": {
   "display_name": "Python 3.9.13 ('ml_venv_p39')",
   "language": "python",
   "name": "python3"
  },
  "language_info": {
   "codemirror_mode": {
    "name": "ipython",
    "version": 3
   },
   "file_extension": ".py",
   "mimetype": "text/x-python",
   "name": "python",
   "nbconvert_exporter": "python",
   "pygments_lexer": "ipython3",
   "version": "3.9.13"
  },
  "orig_nbformat": 4,
  "vscode": {
   "interpreter": {
    "hash": "4768d2f058c14b479e138ff57b58bdd686493c6bb5dedc1b4ea8047c7aed7072"
   }
  }
 },
 "nbformat": 4,
 "nbformat_minor": 2
}
