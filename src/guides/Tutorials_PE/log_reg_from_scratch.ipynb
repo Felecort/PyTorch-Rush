{
 "cells": [
  {
   "cell_type": "markdown",
   "metadata": {},
   "source": [
    "Basic pipeline\n",
    "\n",
    "1. Design a model\n",
    "2. Construct loss and optimizer\n",
    "3. Train model\n",
    "    1. forward pass: compute predictions\n",
    "    2. backward pass: gradients\n",
    "    3. update weights"
   ]
  },
  {
   "cell_type": "code",
   "execution_count": 28,
   "metadata": {},
   "outputs": [],
   "source": [
    "import torch\n",
    "import torch.nn as nn\n",
    "import numpy as np\n",
    "import matplotlib.pyplot as plt\n",
    "import seaborn as sns\n",
    "from sklearn import datasets\n",
    "from sklearn.preprocessing import StandardScaler\n",
    "from sklearn.model_selection import train_test_split\n",
    "\n",
    "sns.set()"
   ]
  },
  {
   "cell_type": "code",
   "execution_count": 29,
   "metadata": {},
   "outputs": [],
   "source": [
    "bc = datasets.load_breast_cancer()\n",
    "X, y = bc.data, bc.target\n",
    "\n",
    "n_samples, n_features = X.shape\n",
    "\n",
    "X_train, X_test, y_train, y_test = train_test_split(X, y, train_size=0.8, random_state=1234)\n",
    "\n",
    "sc = StandardScaler()\n",
    "X_train = sc.fit_transform(X_train)\n",
    "X_test = sc.fit_transform(X_test)\n",
    "\n",
    "X_train = torch.from_numpy(X_train.astype(np.float32))\n",
    "X_test = torch.from_numpy(X_test.astype(np.float32))\n",
    "y_train = torch.from_numpy(y_train.astype(np.float32))\n",
    "y_test = torch.from_numpy(y_test.astype(np.float32))\n",
    "\n",
    "y_train = y_train.view(y_train.shape[0], 1)\n",
    "y_test = y_test.view(y_test.shape[0], 1)\n"
   ]
  },
  {
   "cell_type": "code",
   "execution_count": 30,
   "metadata": {},
   "outputs": [],
   "source": [
    "class LogReg(nn.Module):\n",
    "    def __init__(self, n_input_features) -> None:\n",
    "        super().__init__()\n",
    "        self.n_input_features = n_input_features\n",
    "        \n",
    "        self.linear = nn.Linear(n_input_features, 1)\n",
    "    \n",
    "    def forward(self, x):\n",
    "        y_pred = torch.sigmoid(self.linear(x))\n",
    "        return y_pred"
   ]
  },
  {
   "cell_type": "code",
   "execution_count": 31,
   "metadata": {},
   "outputs": [],
   "source": [
    "lr = 0.01\n",
    "num_epochs = 200\n",
    "\n",
    "model = LogReg(n_features)\n",
    "criterion = nn.BCELoss()\n",
    "optimizer = torch.optim.SGD(model.parameters(), lr=lr)"
   ]
  },
  {
   "cell_type": "code",
   "execution_count": 32,
   "metadata": {},
   "outputs": [
    {
     "name": "stdout",
     "output_type": "stream",
     "text": [
      "epoch = 10, loss = 0.544\n",
      "epoch = 20, loss = 0.451\n",
      "epoch = 30, loss = 0.391\n",
      "epoch = 40, loss = 0.349\n",
      "epoch = 50, loss = 0.318\n",
      "epoch = 60, loss = 0.294\n",
      "epoch = 70, loss = 0.275\n",
      "epoch = 80, loss = 0.259\n",
      "epoch = 90, loss = 0.246\n",
      "epoch = 100, loss = 0.235\n",
      "epoch = 110, loss = 0.225\n",
      "epoch = 120, loss = 0.216\n",
      "epoch = 130, loss = 0.209\n",
      "epoch = 140, loss = 0.202\n",
      "epoch = 150, loss = 0.195\n",
      "epoch = 160, loss = 0.190\n",
      "epoch = 170, loss = 0.185\n",
      "epoch = 180, loss = 0.180\n",
      "epoch = 190, loss = 0.176\n",
      "epoch = 200, loss = 0.172\n"
     ]
    }
   ],
   "source": [
    "for epoch in range(1, num_epochs + 1):\n",
    "    y_pred = model(X_train)\n",
    "    \n",
    "    loss = criterion(y_pred, y_train)\n",
    "    \n",
    "    loss.backward()\n",
    "    \n",
    "    optimizer.step()\n",
    "    optimizer.zero_grad()\n",
    "    \n",
    "    if epoch % 10 == 0:\n",
    "        print(f\"{epoch = }, loss = {loss.item():.3f}\")"
   ]
  },
  {
   "cell_type": "code",
   "execution_count": 33,
   "metadata": {},
   "outputs": [
    {
     "name": "stdout",
     "output_type": "stream",
     "text": [
      "acc = 0.930\n"
     ]
    }
   ],
   "source": [
    "with torch.no_grad():\n",
    "    res = model(X_test)\n",
    "    y_pred = res.round()\n",
    "    acc = y_pred.eq(y_test).sum() / float(y_test.shape[0])\n",
    "    print(f\"acc = {acc.item():.3f}\")"
   ]
  }
 ],
 "metadata": {
  "kernelspec": {
   "display_name": "Python 3.9.13 ('ml_venv_p39')",
   "language": "python",
   "name": "python3"
  },
  "language_info": {
   "codemirror_mode": {
    "name": "ipython",
    "version": 3
   },
   "file_extension": ".py",
   "mimetype": "text/x-python",
   "name": "python",
   "nbconvert_exporter": "python",
   "pygments_lexer": "ipython3",
   "version": "3.9.13"
  },
  "orig_nbformat": 4,
  "vscode": {
   "interpreter": {
    "hash": "4768d2f058c14b479e138ff57b58bdd686493c6bb5dedc1b4ea8047c7aed7072"
   }
  }
 },
 "nbformat": 4,
 "nbformat_minor": 2
}
