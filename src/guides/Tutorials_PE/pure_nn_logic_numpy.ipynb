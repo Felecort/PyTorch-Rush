{
 "cells": [
  {
   "cell_type": "code",
   "execution_count": 1,
   "metadata": {},
   "outputs": [],
   "source": [
    "import numpy as np"
   ]
  },
  {
   "cell_type": "code",
   "execution_count": 2,
   "metadata": {},
   "outputs": [],
   "source": [
    "X = np.array([1, 2, 3, 4], dtype=np.float32)\n",
    "y = np.array([2, 4, 6, 8], dtype=np.float32)\n",
    "\n",
    "w = 0"
   ]
  },
  {
   "cell_type": "markdown",
   "metadata": {},
   "source": [
    "# Model prediction `forward`"
   ]
  },
  {
   "cell_type": "code",
   "execution_count": 3,
   "metadata": {},
   "outputs": [],
   "source": [
    "def forward(x):\n",
    "    return w * x"
   ]
  },
  {
   "cell_type": "markdown",
   "metadata": {},
   "source": [
    "# Loss `criterion`"
   ]
  },
  {
   "cell_type": "code",
   "execution_count": 4,
   "metadata": {},
   "outputs": [],
   "source": [
    "# MSE\n",
    "def loss(y, y_pred):\n",
    "    return ((y_pred - y) ** 2).mean()"
   ]
  },
  {
   "cell_type": "markdown",
   "metadata": {},
   "source": [
    "# Backprop, Gradient `optimizer`"
   ]
  },
  {
   "cell_type": "code",
   "execution_count": 5,
   "metadata": {},
   "outputs": [],
   "source": [
    "# MSE = 1/n * (w * x - y) ** 2\n",
    "# dJ/dw = 1/N * 2 * x * (w * x - y)\n",
    "def gradient(x, y, y_pred):\n",
    "    return np.dot(2 * x, y_pred - y).mean()"
   ]
  },
  {
   "cell_type": "markdown",
   "metadata": {},
   "source": [
    "# Learning"
   ]
  },
  {
   "cell_type": "code",
   "execution_count": 6,
   "metadata": {},
   "outputs": [
    {
     "name": "stdout",
     "output_type": "stream",
     "text": [
      "Prediction before training 0.000\n",
      "epoch = 4, w = 1.09575650, l = 9.12020016\n",
      "epoch = 8, w = 1.59117183, l = 1.86429715\n",
      "epoch = 12, w = 1.81515987, l = 0.38108858\n",
      "epoch = 16, w = 1.91642976, l = 0.07790002\n",
      "epoch = 20, w = 1.96221608, l = 0.01592386\n",
      "epoch = 24, w = 1.98291708, l = 0.00325507\n",
      "epoch = 28, w = 1.99227644, l = 0.00066538\n",
      "epoch = 32, w = 1.99650802, l = 0.00013601\n",
      "epoch = 36, w = 1.99842121, l = 0.00002780\n",
      "epoch = 40, w = 1.99928619, l = 0.00000568\n",
      "Prediction after training 9.996\n"
     ]
    }
   ],
   "source": [
    "epoches = 40\n",
    "learning_rate = 0.003\n",
    "print(f\"Prediction before training {forward(5):.3f}\")\n",
    "for epoch in range(1, epoches + 1):\n",
    "    # Prediction = forward pass\n",
    "    y_pred = forward(X)\n",
    "    \n",
    "    # Loss\n",
    "    l = loss(y, y_pred)\n",
    "    \n",
    "    # Gradient (loss.backward)\n",
    "    dw = gradient(X, y, y_pred)\n",
    "    \n",
    "    # Update weights (optimizer.step)\n",
    "    w -= learning_rate * dw\n",
    "    if epoch % 4 == 0:\n",
    "        print(f\"{epoch = }, {w = :.8f}, {l = :.8f}\")\n",
    "print(f\"Prediction after training {forward(5):.3f}\")"
   ]
  }
 ],
 "metadata": {
  "kernelspec": {
   "display_name": "Python 3.9.13 ('ml_venv_p39')",
   "language": "python",
   "name": "python3"
  },
  "language_info": {
   "codemirror_mode": {
    "name": "ipython",
    "version": 3
   },
   "file_extension": ".py",
   "mimetype": "text/x-python",
   "name": "python",
   "nbconvert_exporter": "python",
   "pygments_lexer": "ipython3",
   "version": "3.9.13"
  },
  "orig_nbformat": 4,
  "vscode": {
   "interpreter": {
    "hash": "4768d2f058c14b479e138ff57b58bdd686493c6bb5dedc1b4ea8047c7aed7072"
   }
  }
 },
 "nbformat": 4,
 "nbformat_minor": 2
}
