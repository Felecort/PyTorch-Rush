{
 "cells": [
  {
   "cell_type": "code",
   "execution_count": 31,
   "metadata": {},
   "outputs": [],
   "source": [
    "import torch"
   ]
  },
  {
   "cell_type": "code",
   "execution_count": 32,
   "metadata": {},
   "outputs": [],
   "source": [
    "X = torch.Tensor([1, 2, 3, 4])#, dtype=torch.float32)\n",
    "y = torch.Tensor([2, 4, 6, 8])#, dtype=torch.float32)\n",
    "\n",
    "w = torch.tensor(0, requires_grad=True, dtype=torch.float32)"
   ]
  },
  {
   "cell_type": "code",
   "execution_count": 33,
   "metadata": {},
   "outputs": [],
   "source": [
    "def forward(x):\n",
    "    return w * x"
   ]
  },
  {
   "cell_type": "code",
   "execution_count": 34,
   "metadata": {},
   "outputs": [],
   "source": [
    "# MSE\n",
    "def loss(y, y_pred):\n",
    "    return ((y_pred - y) ** 2).mean()"
   ]
  },
  {
   "cell_type": "code",
   "execution_count": 35,
   "metadata": {},
   "outputs": [
    {
     "name": "stdout",
     "output_type": "stream",
     "text": [
      "Prediction before training 0.000\n",
      "epoch = 10, w = 1.22116780, l = 5.49371624\n",
      "epoch = 20, w = 1.69671035, l = 0.83309335\n",
      "epoch = 30, w = 1.88189423, l = 0.12633425\n",
      "epoch = 40, w = 1.95400774, l = 0.01915789\n",
      "epoch = 50, w = 1.98208988, l = 0.00290520\n",
      "epoch = 60, w = 1.99302554, l = 0.00044055\n",
      "epoch = 70, w = 1.99728405, l = 0.00006681\n",
      "epoch = 80, w = 1.99894226, l = 0.00001013\n",
      "epoch = 90, w = 1.99958813, l = 0.00000154\n",
      "epoch = 100, w = 1.99983954, l = 0.00000023\n",
      "Prediction after training 9.999\n"
     ]
    }
   ],
   "source": [
    "epoches = 100\n",
    "learning_rate = 0.006\n",
    "print(f\"Prediction before training {forward(5):.3f}\")\n",
    "for epoch in range(1, epoches + 1):\n",
    "    # Prediction = forward pass\n",
    "    y_pred = forward(X)\n",
    "    \n",
    "    # Loss\n",
    "    l = loss(y, y_pred)\n",
    "    \n",
    "    # Gradient (loss.backward)\n",
    "    l.backward()\n",
    "    \n",
    "    # Update weights (optimizer.step)\n",
    "    with torch.no_grad():\n",
    "        w -= learning_rate * w.grad\n",
    "    \n",
    "    w.grad.zero_()\n",
    "    \n",
    "    if epoch % 10 == 0:\n",
    "        print(f\"{epoch = }, {w = :.8f}, {l = :.8f}\")\n",
    "print(f\"Prediction after training {forward(5):.3f}\")"
   ]
  },
  {
   "cell_type": "code",
   "execution_count": null,
   "metadata": {},
   "outputs": [],
   "source": []
  }
 ],
 "metadata": {
  "kernelspec": {
   "display_name": "Python 3.9.13 ('ml_venv_p39')",
   "language": "python",
   "name": "python3"
  },
  "language_info": {
   "codemirror_mode": {
    "name": "ipython",
    "version": 3
   },
   "file_extension": ".py",
   "mimetype": "text/x-python",
   "name": "python",
   "nbconvert_exporter": "python",
   "pygments_lexer": "ipython3",
   "version": "3.9.13"
  },
  "orig_nbformat": 4,
  "vscode": {
   "interpreter": {
    "hash": "4768d2f058c14b479e138ff57b58bdd686493c6bb5dedc1b4ea8047c7aed7072"
   }
  }
 },
 "nbformat": 4,
 "nbformat_minor": 2
}
