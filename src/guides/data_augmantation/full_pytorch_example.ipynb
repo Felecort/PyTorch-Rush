{
 "cells": [
  {
   "cell_type": "code",
   "execution_count": 1,
   "metadata": {},
   "outputs": [],
   "source": [
    "import cv2\n",
    "import numpy as np\n",
    "import albumentations as A\n",
    "from albumentations.pytorch import ToTensorV2\n",
    "from utils import plot_examples\n",
    "from PIL import Image\n",
    "import torch\n",
    "import torch.nn as nn\n",
    "import os\n",
    "import seaborn as sns\n",
    "sns.set()"
   ]
  },
  {
   "cell_type": "markdown",
   "metadata": {},
   "source": [
    "# Create dataset augmentation"
   ]
  },
  {
   "cell_type": "code",
   "execution_count": 2,
   "metadata": {},
   "outputs": [],
   "source": [
    "# [(cat.jpg, 0), ..., (dog.jpg, 1)]\n",
    "class ImageFolder(nn.Module):\n",
    "    def __init__(self, root_dir, transform=None) -> None:\n",
    "        super().__init__()\n",
    "        self.data = []\n",
    "        self.root_dir = root_dir\n",
    "        self.transform = transform\n",
    "        self.class_names = os.listdir(root_dir)\n",
    "        \n",
    "        for index, name in enumerate(self.class_names):\n",
    "            files = os.listdir(os.path.join(root_dir, name))\n",
    "            self.data += list(zip(files, [index] * len(files)))\n",
    "    def __len__(self):\n",
    "        return len(self.data)\n",
    "    \n",
    "    def __getitem__(self, index):\n",
    "        img_file, label = self.data[index]\n",
    "        root_and_dir = os.path.join(self.root_dir, self.class_names[label])\n",
    "        image = np.array(Image.open(os.path.join(root_and_dir, img_file)))\n",
    "        if self.transform is not None:\n",
    "            augmentation = self.transform(image=image) # bboxes=bboex...\n",
    "            image = augmentation[\"image\"]\n",
    "        return image, label\n",
    "            "
   ]
  },
  {
   "cell_type": "code",
   "execution_count": 3,
   "metadata": {},
   "outputs": [],
   "source": [
    "transform = A.Compose(\n",
    "    [\n",
    "        A.Resize(width=1920, height=1080),\n",
    "        A.RandomCrop(width=1280, height=720),\n",
    "        # If you don't want to have reflections after rotation\n",
    "        A.Rotate(limit=40, p=0.9, border_mode=cv2.BORDER_CONSTANT),\n",
    "        A.HorizontalFlip(p=0.1),\n",
    "        A.VerticalFlip(0.5),\n",
    "        A.RGBShift(r_shift_limit=25, g_shift_limit=25, b_shift_limit=25),\n",
    "        A.OneOf(# Choose random transformation\n",
    "            [\n",
    "                A.Blur(blur_limit=3, p=0.5),\n",
    "                A.ColorJitter(p=0.5),\n",
    "                \n",
    "            ], p=1.0), # Chance to use one of these transforms \n",
    "        A.Normalize(\n",
    "            mean=(0, 0, 0),\n",
    "            std=(1, 1, 1),\n",
    "            max_pixel_value=255,\n",
    "        ),\n",
    "        ToTensorV2(),\n",
    "     ]\n",
    ")"
   ]
  },
  {
   "cell_type": "code",
   "execution_count": 4,
   "metadata": {},
   "outputs": [],
   "source": [
    "dataset = ImageFolder(root_dir=\"cat_dogs\", transform=transform)"
   ]
  },
  {
   "cell_type": "code",
   "execution_count": 5,
   "metadata": {},
   "outputs": [
    {
     "name": "stdout",
     "output_type": "stream",
     "text": [
      "torch.Size([3, 720, 1280]) 0\n",
      "torch.Size([3, 720, 1280]) 0\n",
      "torch.Size([3, 720, 1280]) 0\n",
      "torch.Size([3, 720, 1280]) 0\n",
      "torch.Size([3, 720, 1280]) 0\n",
      "torch.Size([3, 720, 1280]) 0\n",
      "torch.Size([3, 720, 1280]) 0\n",
      "torch.Size([3, 720, 1280]) 0\n",
      "torch.Size([3, 720, 1280]) 0\n",
      "torch.Size([3, 720, 1280]) 1\n",
      "torch.Size([3, 720, 1280]) 1\n",
      "torch.Size([3, 720, 1280]) 1\n",
      "torch.Size([3, 720, 1280]) 1\n",
      "torch.Size([3, 720, 1280]) 1\n",
      "torch.Size([3, 720, 1280]) 1\n",
      "torch.Size([3, 720, 1280]) 1\n",
      "torch.Size([3, 720, 1280]) 1\n",
      "torch.Size([3, 720, 1280]) 1\n",
      "torch.Size([3, 720, 1280]) 1\n"
     ]
    }
   ],
   "source": [
    "for x, y in dataset:\n",
    "    print(x.shape, y)"
   ]
  }
 ],
 "metadata": {
  "kernelspec": {
   "display_name": "Python 3.9.13 ('ml_venv_p39')",
   "language": "python",
   "name": "python3"
  },
  "language_info": {
   "codemirror_mode": {
    "name": "ipython",
    "version": 3
   },
   "file_extension": ".py",
   "mimetype": "text/x-python",
   "name": "python",
   "nbconvert_exporter": "python",
   "pygments_lexer": "ipython3",
   "version": "3.9.13"
  },
  "orig_nbformat": 4,
  "vscode": {
   "interpreter": {
    "hash": "4768d2f058c14b479e138ff57b58bdd686493c6bb5dedc1b4ea8047c7aed7072"
   }
  }
 },
 "nbformat": 4,
 "nbformat_minor": 2
}
