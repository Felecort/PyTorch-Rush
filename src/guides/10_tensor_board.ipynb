{
  "cells": [
    {
      "cell_type": "code",
      "execution_count": 1,
      "metadata": {
        "id": "Q2gQc6O_uELi"
      },
      "outputs": [],
      "source": [
        "import torch\n",
        "import torch.nn as nn # NN networks (CNN, RNN, losses)\n",
        "import torch.optim as optim # Aptimizers (Adam, Adadelta, Adagrad)\n",
        "import torch.nn.functional as F # Activarions func (ReLU, Sigmoid) also included in nn\n",
        "from torch.utils.data import DataLoader # Dataset manager\n",
        "import torchvision.datasets as datasets # Datasets\n",
        "import torchvision.transforms as transforms # Transformation to datasets\n",
        "import torchvision\n",
        "from torch.utils.tensorboard import SummaryWriter"
      ]
    },
    {
      "cell_type": "code",
      "execution_count": 2,
      "metadata": {
        "id": "knlitASIyXEW"
      },
      "outputs": [],
      "source": [
        "# Set device\n",
        "device = torch.device(\"cuda\" if torch.cuda.is_available() else \"cpu\")\n",
        "\n",
        "# Hyperparametrs\n",
        "epoches = 1\n",
        "in_channels = 1\n",
        "num_classes = 10\n"
      ]
    },
    {
      "cell_type": "code",
      "execution_count": 3,
      "metadata": {},
      "outputs": [],
      "source": [
        "from turtle import forward\n",
        "\n",
        "\n",
        "class CNN(nn.Module):\n",
        "    def __init__(self, in_channesls=1, num_classes=10):\n",
        "        super().__init__()\n",
        "        self.conv1 = nn.Conv2d(in_channels=1, out_channels=8, kernel_size=(3, 3), stride=(1, 1), padding=(1, 1))\n",
        "        self.pool = nn.MaxPool2d(kernel_size=(2, 2), stride=(2, 2))\n",
        "        self.conv2 = nn.Conv2d(in_channels=8, out_channels=16, kernel_size=(3, 3), stride=(1, 1), padding=(1, 1))\n",
        "        self.fc1 = nn.Linear(16 * 7 * 7, num_classes)\n",
        "        \n",
        "\n",
        "    def forward(self, x):\n",
        "        x = F.relu(self.conv1(x))\n",
        "        x = self.pool(x)\n",
        "        \n",
        "        x = F.relu(self.conv2(x))\n",
        "        x = self.pool(x)\n",
        "        \n",
        "        x = x.reshape(x.shape[0], -1)\n",
        "        \n",
        "        x = self.fc1(x)\n",
        "        return x"
      ]
    },
    {
      "cell_type": "code",
      "execution_count": 4,
      "metadata": {
        "id": "Ef-O9I0MztiD"
      },
      "outputs": [],
      "source": [
        "# Load data\n",
        "train_dataset = datasets.MNIST(root=\"dataset/\", train=True, transform=transforms.ToTensor(), download=True)\n",
        "\n",
        "test_dataset = datasets.MNIST(root=\"dataset/\", train=False, transform=transforms.ToTensor(), download=True)\n",
        "test_loader = DataLoader(dataset=test_dataset, batch_size=1, shuffle=True)\n"
      ]
    },
    {
      "cell_type": "code",
      "execution_count": 5,
      "metadata": {},
      "outputs": [
        {
          "name": "stdout",
          "output_type": "stream",
          "text": [
            "128 0.001\n"
          ]
        }
      ],
      "source": [
        "# Train model\n",
        "# tensorboard --logdir src/guides/runs\n",
        "\n",
        "# Find hyperparametres and plot (tensorboard)\n",
        "batch_sizes = [128]\n",
        "learning_rates = [0.001]\n",
        "classes = [str(i) for i in range(10)]\n",
        "for batch_size in batch_sizes:\n",
        "    for learning_rate in learning_rates:\n",
        "        step = 0\n",
        "        \n",
        "        model = CNN().to(device=device)\n",
        "        model.train()\n",
        "        \n",
        "        criterion = nn.CrossEntropyLoss()\n",
        "        train_loader = DataLoader(dataset=train_dataset, batch_size=batch_size, shuffle=True)\n",
        "        optimizer = optim.Adam(model.parameters(), lr=learning_rate)\n",
        "\n",
        "        writer = SummaryWriter(f\"runs/MNIST/MiniBatcg {batch_size}, lr {learning_rate}\")\n",
        "        for epoch in range(epoches):\n",
        "            losses = []\n",
        "            accuracies = []\n",
        "            for batch_ind, (data, targets) in enumerate(train_loader):\n",
        "                # Data on cude\n",
        "                data = data.to(device=device) # ([64, 1, 28, 28])\n",
        "                targets = targets.to(device=device)\n",
        "                \n",
        "                # Forawrd\n",
        "                scores = model(data) # Equal to model.forward(data)\n",
        "                loss = criterion(scores, targets)\n",
        "\n",
        "                # Backprop\n",
        "                optimizer.zero_grad()\n",
        "                loss.backward()\n",
        "\n",
        "                # Gradient descent or adam step\n",
        "                optimizer.step()\n",
        "                \n",
        "                # Clac running train accuracy\n",
        "                \n",
        "                features = data.reshape(data.shape[0], -1)\n",
        "                _, prediction = scores.max(1)\n",
        "                num_correct = (prediction == targets).sum()\n",
        "                running_train_acc = float(num_correct) / float(data.shape[0])\n",
        "                accuracies.append(running_train_acc)\n",
        "                losses.append(loss)\n",
        "                \n",
        "                # Images\n",
        "                img_grid = torchvision.utils.make_grid(data)\n",
        "                \n",
        "                # Plot to tensorboard\n",
        "                writer.add_image(\"mnist_images\", img_grid, global_step=step)\n",
        "\n",
        "                # See how weight change in entire layer\n",
        "                writer.add_histogram(\"fc1\", model.fc1.weight, global_step=step)\n",
        "\n",
        "                # Graph the accuracy and loss\n",
        "                writer.add_scalar(\"Training Loss\", loss, global_step=step)\n",
        "                writer.add_scalar(\"training Accuracy\", running_train_acc, global_step=step)\n",
        "                \n",
        "                # Visualise features\n",
        "                if batch_ind == 230:\n",
        "                    class_labels = [classes[label] for label in prediction]\n",
        "                    writer.add_embedding(features, metadata=class_labels,\n",
        "                                     label_img=data,# No necessary.unsqueeze(1), # [64, 1, 28, 28] -> [64, 28, 28]\n",
        "                                     global_step=batch_ind)\n",
        "                \n",
        "                step += 1\n",
        "            writer.add_hparams({\"lr\": learning_rate, \"bsize\": batch_size},\n",
        "                                {\"accuracy\": sum(accuracies) / len(accuracies),\n",
        "                                \"loss\": sum(losses) / len(losses)})\n",
        "        print(batch_size, learning_rate)\n"
      ]
    }
  ],
  "metadata": {
    "accelerator": "GPU",
    "colab": {
      "collapsed_sections": [],
      "name": "1_simple_fullynet",
      "provenance": []
    },
    "gpuClass": "standard",
    "kernelspec": {
      "display_name": "Python 3.9.13 ('ml_venv_p39')",
      "language": "python",
      "name": "python3"
    },
    "language_info": {
      "codemirror_mode": {
        "name": "ipython",
        "version": 3
      },
      "file_extension": ".py",
      "mimetype": "text/x-python",
      "name": "python",
      "nbconvert_exporter": "python",
      "pygments_lexer": "ipython3",
      "version": "3.9.13"
    },
    "vscode": {
      "interpreter": {
        "hash": "4768d2f058c14b479e138ff57b58bdd686493c6bb5dedc1b4ea8047c7aed7072"
      }
    }
  },
  "nbformat": 4,
  "nbformat_minor": 0
}
