{
  "cells": [
    {
      "cell_type": "code",
      "execution_count": 1,
      "metadata": {
        "id": "Q2gQc6O_uELi"
      },
      "outputs": [],
      "source": [
        "import torch\n",
        "import torch.nn as nn # NN networks (CNN, RNN, losses)\n",
        "import torch.optim as optim # Aptimizers (Adam, Adadelta, Adagrad)\n",
        "import torch.nn.functional as F # Activarions func (ReLU, Sigmoid) also included in nn\n",
        "from torch.utils.data import DataLoader, Dataset, WeightedRandomSampler # Dataset manager\n",
        "from torch.nn.utils.rnn import pad_sequence\n",
        "from torchvision.utils import save_image\n",
        "import torchvision.datasets as datasets # Datasets\n",
        "import torchvision.transforms as transforms # Transformation to datasets\n",
        "import torchvision\n",
        "import pandas as pd\n",
        "import os\n",
        "import spacy # Tokenizer\n",
        "from PIL import Image\n",
        "from skimage import io "
      ]
    },
    {
      "cell_type": "code",
      "execution_count": 2,
      "metadata": {},
      "outputs": [],
      "source": [
        "# Methods\n",
        "# Oversampling\n",
        "# Class weighting\n",
        "# "
      ]
    },
    {
      "cell_type": "code",
      "execution_count": 3,
      "metadata": {},
      "outputs": [],
      "source": [
        "# Class weighting\n",
        "loss_fn = nn.CrossEntropyLoss(weight=torch.tensor([1, 50]))"
      ]
    },
    {
      "cell_type": "code",
      "execution_count": 5,
      "metadata": {},
      "outputs": [
        {
          "name": "stdout",
          "output_type": "stream",
          "text": [
            "tensor(255) tensor(255)\n"
          ]
        }
      ],
      "source": [
        "# Oversampling\n",
        "from unittest import loader\n",
        "\n",
        "\n",
        "def get_loder(root_dir, batch_size):\n",
        "    my_transforms = transforms.Compose(\n",
        "        [\n",
        "            transforms.Resize((224, 224)),\n",
        "            transforms.ToTensor(),\n",
        "        ]\n",
        "    )\n",
        "    dataset = datasets.ImageFolder(root=root_dir, transform=my_transforms)\n",
        "    \n",
        "    class_weights = []\n",
        "    for root, subdir, files in os.walk(root_dir):\n",
        "        if len(files) > 0:\n",
        "            class_weights.append(1 / len(files))\n",
        "    \n",
        "    sample_weights = [0] * len(dataset)\n",
        "    for idx, (data, label) in enumerate(dataset):\n",
        "        class_weight =  class_weights[label]\n",
        "        sample_weights[idx] = class_weight\n",
        "        \n",
        "    sampler = WeightedRandomSampler(sample_weights,\n",
        "                                     num_samples=len(sample_weights),\n",
        "                                     replacement=True)\n",
        "    loader = DataLoader(dataset, batch_size=batch_size, sampler=sampler)\n",
        "    return loader\n",
        "\n",
        "loader = get_loder(root_dir=\"dataset\", batch_size=8)\n",
        "num_retrivers = 0\n",
        "num_elkhounds = 0\n",
        "for epoch in range(10):\n",
        "    for data, labels in loader:\n",
        "        # print(labels)\n",
        "        num_retrivers += torch.sum(labels==0)\n",
        "        num_elkhounds += torch.sum(labels==1)\n",
        "\n",
        "# balanced\n",
        "print(num_retrivers, num_elkhounds)"
      ]
    },
    {
      "cell_type": "code",
      "execution_count": null,
      "metadata": {},
      "outputs": [],
      "source": []
    }
  ],
  "metadata": {
    "accelerator": "GPU",
    "colab": {
      "collapsed_sections": [],
      "name": "1_simple_fullynet",
      "provenance": []
    },
    "gpuClass": "standard",
    "kernelspec": {
      "display_name": "Python 3.9.13 ('ml_venv_p39')",
      "language": "python",
      "name": "python3"
    },
    "language_info": {
      "codemirror_mode": {
        "name": "ipython",
        "version": 3
      },
      "file_extension": ".py",
      "mimetype": "text/x-python",
      "name": "python",
      "nbconvert_exporter": "python",
      "pygments_lexer": "ipython3",
      "version": "3.9.13"
    },
    "vscode": {
      "interpreter": {
        "hash": "4768d2f058c14b479e138ff57b58bdd686493c6bb5dedc1b4ea8047c7aed7072"
      }
    }
  },
  "nbformat": 4,
  "nbformat_minor": 0
}
