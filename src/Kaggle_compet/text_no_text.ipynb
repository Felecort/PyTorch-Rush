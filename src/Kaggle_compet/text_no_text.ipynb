{
 "cells": [
  {
   "cell_type": "code",
   "execution_count": 55,
   "metadata": {},
   "outputs": [],
   "source": [
    "import torch\n",
    "import torch.nn as nn # NN networks (CNN, RNN, losses)\n",
    "import torch.optim as optim # Aptimizers (Adam, Adadelta, Adagrad)\n",
    "import torch.nn.functional as F # Activarions func (ReLU, Sigmoid) also included in nn\n",
    "import torchvision.datasets as datasets # Datasets\n",
    "import torchvision.transforms as transforms # Transformation to datasets\n",
    "import torchvision\n",
    "import pandas as pd\n",
    "from torch.utils.data import DataLoader, Dataset # Dataset manager\n",
    "from torch.nn.utils.rnn import pad_sequence\n",
    "from torchvision.utils import save_image\n",
    "from PIL import Image\n",
    "from skimage import io \n",
    "import os\n",
    "import matplotlib.pyplot as plt\n",
    "import matplotlib.image as mpimg"
   ]
  },
  {
   "cell_type": "code",
   "execution_count": 56,
   "metadata": {},
   "outputs": [],
   "source": [
    "class TextNoTextData(Dataset):\n",
    "    def __init__(self, root_dir, labels_dir, transform=None) -> None:\n",
    "        super().__init__()\n",
    "        self.root_dir = root_dir\n",
    "        self.labels_dir = labels_dir\n",
    "        self.transform = transform\n",
    "        self.labels = pd.read_csv(labels_dir)\n",
    "        \n",
    "    def __len__(self):\n",
    "        return len(self.labels)\n",
    "        \n",
    "    def __getitem__(self, index):\n",
    "        img_path = os.path.join(self.root_dir, self.labels.iloc[index, 0])\n",
    "        img = io.imread(img_path)\n",
    "        y_label = torch.tensor(int(self.labels.iloc[index, 1]))\n",
    "        if self.transform:\n",
    "            img = self.transform(img)\n",
    "            \n",
    "        return img, y_label\n",
    "        "
   ]
  },
  {
   "cell_type": "code",
   "execution_count": 57,
   "metadata": {},
   "outputs": [],
   "source": [
    "root_dir = \"./text_notext_competition/TrainData/all_data/\"\n",
    "labels_dir = \"./text_notext_competition/train_labels.csv\"\n",
    "transformation = transforms.Compose([\n",
    "    transforms.ToPILImage(),\n",
    "    transforms.Resize((400, 400)),\n",
    "    transforms.ToTensor(),\n",
    "])\n",
    "\n",
    "dataset = TextNoTextData(root_dir=root_dir, labels_dir=labels_dir, transform=transformation)"
   ]
  },
  {
   "cell_type": "code",
   "execution_count": 58,
   "metadata": {},
   "outputs": [
    {
     "data": {
      "text/plain": [
       "9608"
      ]
     },
     "execution_count": 58,
     "metadata": {},
     "output_type": "execute_result"
    }
   ],
   "source": [
    "dataset.__len__()"
   ]
  },
  {
   "cell_type": "code",
   "execution_count": 59,
   "metadata": {},
   "outputs": [],
   "source": [
    "batch_size = 128\n",
    "train_amount = 7500\n",
    "test_amount = dataset.__len__() - train_amount\n",
    "\n",
    "train_set, test_set = torch.utils.data.random_split(dataset, [train_amount, test_amount])\n",
    "train_loader = DataLoader(dataset=train_set, batch_size=batch_size, shuffle=True)\n",
    "test_loader = DataLoader(dataset=test_set, batch_size=batch_size, shuffle=True)"
   ]
  }
 ],
 "metadata": {
  "kernelspec": {
   "display_name": "Python 3.9.13 ('ml_venv_p39')",
   "language": "python",
   "name": "python3"
  },
  "language_info": {
   "codemirror_mode": {
    "name": "ipython",
    "version": 3
   },
   "file_extension": ".py",
   "mimetype": "text/x-python",
   "name": "python",
   "nbconvert_exporter": "python",
   "pygments_lexer": "ipython3",
   "version": "3.9.13"
  },
  "orig_nbformat": 4,
  "vscode": {
   "interpreter": {
    "hash": "4768d2f058c14b479e138ff57b58bdd686493c6bb5dedc1b4ea8047c7aed7072"
   }
  }
 },
 "nbformat": 4,
 "nbformat_minor": 2
}
