{
  "cells": [
    {
      "cell_type": "code",
      "execution_count": 16,
      "metadata": {
        "id": "Q2gQc6O_uELi"
      },
      "outputs": [],
      "source": [
        "import torch\n",
        "import torch.nn as nn # NN networks (CNN, RNN, losses)\n",
        "import torch.optim as optim # Aptimizers (Adam, Adadelta, Adagrad)\n",
        "import torch.nn.functional as F # Activarions func (ReLU, Sigmoid) also included in nn\n",
        "from torch.utils.data import DataLoader, Dataset # Dataset manager\n",
        "from torch.nn.utils.rnn import pad_sequence\n",
        "from torchvision.utils import save_image\n",
        "import torchvision.datasets as datasets # Datasets\n",
        "import torchvision.transforms as transforms # Transformation to datasets\n",
        "import torchvision\n",
        "import pandas as pd\n",
        "import os\n",
        "import spacy # Tokenizer\n",
        "from PIL import Image\n",
        "from skimage import io "
      ]
    },
    {
      "cell_type": "code",
      "execution_count": 5,
      "metadata": {
        "id": "knlitASIyXEW"
      },
      "outputs": [],
      "source": [
        "# Set device\n",
        "device = torch.device(\"cuda\" if torch.cuda.is_available() else \"cpu\")\n",
        "\n",
        "# Hyperparametrs\n",
        "in_channels = 1\n",
        "num_classes = 10\n",
        "learning_rate = 0.001\n",
        "num_epoches = 5\n",
        "batch_size = 64\n"
      ]
    },
    {
      "cell_type": "code",
      "execution_count": 6,
      "metadata": {},
      "outputs": [],
      "source": [
        "class CatsAndDogsDataset(Dataset):\n",
        "    def __init__(self, csv_file, root_dir, transform=None):\n",
        "        super().__init__()\n",
        "        self.annotations = pd.read_csv(csv_file)\n",
        "        self.root_dir = root_dir\n",
        "        self.transform = transform\n",
        "\n",
        "    def __len__(self):\n",
        "        return len(self.annotations) # 25000\n",
        "    \n",
        "    def __getitem__(self, index):\n",
        "        img_path = os.path.join(self.root_dir, self.annotations.iloc[index, 0])\n",
        "        image = io.imread(img_path)\n",
        "        y_label = torch.tensor(int(self.annotations.iloc[index, 1]))\n",
        "        \n",
        "        if self.transform:\n",
        "            image = self.transform(image)\n",
        "        \n",
        "        return (image, y_label)"
      ]
    },
    {
      "cell_type": "code",
      "execution_count": 35,
      "metadata": {},
      "outputs": [
        {
          "name": "stdout",
          "output_type": "stream",
          "text": [
            "torch.Size([3, 256, 256])\n",
            "torch.Size([3, 256, 256])\n",
            "torch.Size([3, 256, 256])\n",
            "torch.Size([3, 256, 256])\n",
            "torch.Size([3, 256, 256])\n",
            "torch.Size([3, 256, 256])\n",
            "torch.Size([3, 256, 256])\n",
            "torch.Size([3, 256, 256])\n",
            "torch.Size([3, 256, 256])\n",
            "torch.Size([3, 256, 256])\n",
            "torch.Size([3, 256, 256])\n",
            "torch.Size([3, 256, 256])\n",
            "torch.Size([3, 256, 256])\n",
            "torch.Size([3, 256, 256])\n",
            "torch.Size([3, 256, 256])\n",
            "torch.Size([3, 256, 256])\n",
            "torch.Size([3, 256, 256])\n",
            "torch.Size([3, 256, 256])\n",
            "torch.Size([3, 256, 256])\n",
            "torch.Size([3, 256, 256])\n"
          ]
        }
      ],
      "source": [
        "csv_file = r\".\\dataset\\dogs_vs_cats\\data_augmentation\\labels.csv\"\n",
        "root_dir = r\".\\dataset\\dogs_vs_cats\\data_augmentation\"\n",
        "transformation = transforms.ToTensor()\n",
        "transformation = transforms.Compose([\n",
        "    transforms.ToPILImage(),\n",
        "    transforms.Resize((400, 400)),\n",
        "    transforms.RandomCrop((256, 256)),\n",
        "    transforms.ColorJitter(brightness=0.5),\n",
        "    transforms.RandomRotation(degrees=45),\n",
        "    transforms.RandomHorizontalFlip(p=0.5),\n",
        "    transforms.RandomVerticalFlip(p=0.5),\n",
        "    transforms.RandomGrayscale(p=0.5),\n",
        "    transforms.ToTensor(),\n",
        "    transforms.Normalize(mean=[0.0, 0.0, 0.0], std=[1.0, 1.0, 1.0]), # (val - mean) / std\n",
        "])\n",
        "dataset = CatsAndDogsDataset(csv_file=csv_file, root_dir=root_dir, transform=transformation)\n",
        "img_num = 0\n",
        "for _ in range(10):\n",
        "    for img, label in dataset:\n",
        "        print(img.shape)\n",
        "        save_image(img, f\"{root_dir}/img_{img_num}.png\")\n",
        "        img_num += 1\n",
        "# train_set, test_set = torch.utils.data.random_split(dataset, [20000, 5000])\n",
        "# train_loader = DataLoader(dataset=train_set, batch_size=batch_size, shuffle=True)\n",
        "# train_loader = DataLoader(dataset=test_set, batch_size=batch_size, shuffle=True)"
      ]
    }
  ],
  "metadata": {
    "accelerator": "GPU",
    "colab": {
      "collapsed_sections": [],
      "name": "1_simple_fullynet",
      "provenance": []
    },
    "gpuClass": "standard",
    "kernelspec": {
      "display_name": "Python 3.9.13 ('ml_venv_p39')",
      "language": "python",
      "name": "python3"
    },
    "language_info": {
      "codemirror_mode": {
        "name": "ipython",
        "version": 3
      },
      "file_extension": ".py",
      "mimetype": "text/x-python",
      "name": "python",
      "nbconvert_exporter": "python",
      "pygments_lexer": "ipython3",
      "version": "3.9.13"
    },
    "vscode": {
      "interpreter": {
        "hash": "4768d2f058c14b479e138ff57b58bdd686493c6bb5dedc1b4ea8047c7aed7072"
      }
    }
  },
  "nbformat": 4,
  "nbformat_minor": 0
}
